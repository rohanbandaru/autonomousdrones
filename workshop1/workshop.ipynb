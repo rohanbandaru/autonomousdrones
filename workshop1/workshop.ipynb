{
 "cells": [
  {
   "cell_type": "code",
   "execution_count": 1,
   "id": "0a192cf3",
   "metadata": {},
   "outputs": [
    {
     "name": "stdout",
     "output_type": "stream",
     "text": [
      "Requirement already satisfied: flask in c:\\users\\rohan\\miniconda3\\lib\\site-packages (3.1.0)\n",
      "Requirement already satisfied: pandas in c:\\users\\rohan\\miniconda3\\lib\\site-packages (2.2.3)\n",
      "Collecting pyglet\n",
      "  Downloading pyglet-2.1.6-py3-none-any.whl.metadata (7.7 kB)\n",
      "Collecting pyrr\n",
      "  Downloading pyrr-0.10.3-py3-none-any.whl.metadata (832 bytes)\n",
      "Requirement already satisfied: numpy in c:\\users\\rohan\\miniconda3\\lib\\site-packages (1.26.3)\n",
      "Requirement already satisfied: Werkzeug>=3.1 in c:\\users\\rohan\\miniconda3\\lib\\site-packages (from flask) (3.1.3)\n",
      "Requirement already satisfied: Jinja2>=3.1.2 in c:\\users\\rohan\\miniconda3\\lib\\site-packages (from flask) (3.1.2)\n",
      "Requirement already satisfied: itsdangerous>=2.2 in c:\\users\\rohan\\miniconda3\\lib\\site-packages (from flask) (2.2.0)\n",
      "Requirement already satisfied: click>=8.1.3 in c:\\users\\rohan\\miniconda3\\lib\\site-packages (from flask) (8.1.8)\n",
      "Requirement already satisfied: blinker>=1.9 in c:\\users\\rohan\\miniconda3\\lib\\site-packages (from flask) (1.9.0)\n",
      "Requirement already satisfied: python-dateutil>=2.8.2 in c:\\users\\rohan\\miniconda3\\lib\\site-packages (from pandas) (2.9.0.post0)\n",
      "Requirement already satisfied: pytz>=2020.1 in c:\\users\\rohan\\miniconda3\\lib\\site-packages (from pandas) (2024.2)\n",
      "Requirement already satisfied: tzdata>=2022.7 in c:\\users\\rohan\\miniconda3\\lib\\site-packages (from pandas) (2024.2)\n",
      "Collecting multipledispatch (from pyrr)\n",
      "  Downloading multipledispatch-1.0.0-py3-none-any.whl.metadata (3.8 kB)\n",
      "Requirement already satisfied: colorama in c:\\users\\rohan\\miniconda3\\lib\\site-packages (from click>=8.1.3->flask) (0.4.6)\n",
      "Requirement already satisfied: MarkupSafe>=2.0 in c:\\users\\rohan\\miniconda3\\lib\\site-packages (from Jinja2>=3.1.2->flask) (2.1.3)\n",
      "Requirement already satisfied: six>=1.5 in c:\\users\\rohan\\miniconda3\\lib\\site-packages (from python-dateutil>=2.8.2->pandas) (1.16.0)\n",
      "Downloading pyglet-2.1.6-py3-none-any.whl (983 kB)\n",
      "   ---------------------------------------- 0.0/984.0 kB ? eta -:--:--\n",
      "   ---------------------------------------- 10.2/984.0 kB ? eta -:--:--\n",
      "   - ------------------------------------- 30.7/984.0 kB 435.7 kB/s eta 0:00:03\n",
      "   - ------------------------------------- 41.0/984.0 kB 393.8 kB/s eta 0:00:03\n",
      "   -- ------------------------------------ 71.7/984.0 kB 491.5 kB/s eta 0:00:02\n",
      "   --- ----------------------------------- 92.2/984.0 kB 525.1 kB/s eta 0:00:02\n",
      "   ---- --------------------------------- 122.9/984.0 kB 554.9 kB/s eta 0:00:02\n",
      "   ----- -------------------------------- 153.6/984.0 kB 612.6 kB/s eta 0:00:02\n",
      "   ------- ------------------------------ 184.3/984.0 kB 619.5 kB/s eta 0:00:02\n",
      "   ------- ------------------------------ 204.8/984.0 kB 655.1 kB/s eta 0:00:02\n",
      "   -------- ----------------------------- 215.0/984.0 kB 570.5 kB/s eta 0:00:02\n",
      "   ---------- --------------------------- 266.2/984.0 kB 606.6 kB/s eta 0:00:02\n",
      "   ----------- -------------------------- 286.7/984.0 kB 632.7 kB/s eta 0:00:02\n",
      "   ------------ ------------------------- 317.4/984.0 kB 634.7 kB/s eta 0:00:02\n",
      "   -------------- ----------------------- 368.6/984.0 kB 655.2 kB/s eta 0:00:01\n",
      "   --------------- ---------------------- 399.4/984.0 kB 656.2 kB/s eta 0:00:01\n",
      "   ----------------- -------------------- 450.6/984.0 kB 704.5 kB/s eta 0:00:01\n",
      "   ------------------ ------------------- 481.3/984.0 kB 685.6 kB/s eta 0:00:01\n",
      "   ------------------- ------------------ 512.0/984.0 kB 698.8 kB/s eta 0:00:01\n",
      "   -------------------- ----------------- 542.7/984.0 kB 696.1 kB/s eta 0:00:01\n",
      "   ---------------------- --------------- 583.7/984.0 kB 706.2 kB/s eta 0:00:01\n",
      "   ------------------------ ------------- 624.6/984.0 kB 728.8 kB/s eta 0:00:01\n",
      "   ------------------------- ------------ 665.6/984.0 kB 723.4 kB/s eta 0:00:01\n",
      "   --------------------------- ---------- 706.6/984.0 kB 730.7 kB/s eta 0:00:01\n",
      "   ---------------------------- --------- 747.5/984.0 kB 749.3 kB/s eta 0:00:01\n",
      "   ------------------------------ ------- 778.2/984.0 kB 744.9 kB/s eta 0:00:01\n",
      "   ------------------------------- ------ 809.0/984.0 kB 740.9 kB/s eta 0:00:01\n",
      "   --------------------------------- ---- 860.2/984.0 kB 755.5 kB/s eta 0:00:01\n",
      "   --------------------------------- ---- 870.4/984.0 kB 744.1 kB/s eta 0:00:01\n",
      "   ----------------------------------- -- 911.4/984.0 kB 759.2 kB/s eta 0:00:01\n",
      "   ------------------------------------ - 952.3/984.0 kB 753.7 kB/s eta 0:00:01\n",
      "   -------------------------------------- 984.0/984.0 kB 769.8 kB/s eta 0:00:00\n",
      "Downloading pyrr-0.10.3-py3-none-any.whl (46 kB)\n",
      "   ---------------------------------------- 0.0/46.8 kB ? eta -:--:--\n",
      "   -------------------------- ------------- 30.7/46.8 kB 1.3 MB/s eta 0:00:01\n",
      "   ---------------------------------------- 46.8/46.8 kB 777.7 kB/s eta 0:00:00\n",
      "Downloading multipledispatch-1.0.0-py3-none-any.whl (12 kB)\n",
      "Installing collected packages: multipledispatch, pyrr, pyglet\n",
      "Successfully installed multipledispatch-1.0.0 pyglet-2.1.6 pyrr-0.10.3\n",
      "Note: you may need to restart the kernel to use updated packages.\n"
     ]
    }
   ],
   "source": [
    "%pip install flask pandas pyglet pyrr numpy"
   ]
  },
  {
   "cell_type": "code",
   "execution_count": 45,
   "id": "98dc0d53",
   "metadata": {},
   "outputs": [],
   "source": [
    "import math\n",
    "import numpy as np\n",
    "import sys\n",
    "import pandas as pd\n",
    "from pathlib import Path\n",
    "from typing import List, Tuple, Iterable\n",
    "import matplotlib.pyplot as plt\n",
    "import matplotlib.animation as animation\n",
    "\n",
    "from orientation import Orientation\n",
    "from complex import Complex"
   ]
  },
  {
   "cell_type": "code",
   "execution_count": 20,
   "id": "028b46f7",
   "metadata": {},
   "outputs": [
    {
     "name": "stdout",
     "output_type": "stream",
     "text": [
      "Average gyro_uncal_x: 0.0009009989173953272\n",
      "Average gyro_uncal_y: 0.0005190715405440818\n",
      "Average gyro_uncal_z: 0.0014383745604558133\n",
      "Average accel_uncal_x: -0.11726119600677827\n",
      "Average accel_uncal_y: 0.06609904019018262\n",
      "Average accel_uncal_z: 9.855918517874644\n"
     ]
    }
   ],
   "source": [
    "# Load the CSV file\n",
    "file_path = 'data/imu_cal.csv'\n",
    "data = pd.read_csv(file_path)\n",
    "\n",
    "# Calculate the averages of the 6 IMU measurements\n",
    "imu_columns = ['gyro_uncal_x', 'gyro_uncal_y', 'gyro_uncal_z', 'accel_uncal_x', 'accel_uncal_y', 'accel_uncal_z']\n",
    "averages = data[imu_columns].mean()\n",
    "\n",
    "# Print the average values\n",
    "for column, avg in averages.items():\n",
    "\tprint(f\"Average {column}: {avg}\")"
   ]
  },
  {
   "cell_type": "code",
   "execution_count": 26,
   "id": "8a2fcc5f",
   "metadata": {},
   "outputs": [],
   "source": [
    "# Load the CSV file\n",
    "file_path = 'data/imu_1.csv'\n",
    "df = pd.read_csv(file_path)\n",
    "\n",
    "df[\"gyro_x\"] = (df[\"gyro_uncal_x\"] - averages[\"gyro_uncal_x\"])\n",
    "df[\"gyro_y\"] = (df[\"gyro_uncal_y\"] - averages[\"gyro_uncal_y\"])\n",
    "df[\"gyro_z\"] = (df[\"gyro_uncal_z\"] - averages[\"gyro_uncal_z\"])"
   ]
  },
  {
   "cell_type": "code",
   "execution_count": 27,
   "id": "f5546634",
   "metadata": {},
   "outputs": [],
   "source": [
    "def update(dt: float, gyro: np.ndarray) -> Orientation:\n",
    "    \"\"\"\n",
    "    Update the orientation quaternion based on gyroscope data.\n",
    "    \"\"\"\n",
    "    global orientation\n",
    "    norm = np.linalg.norm(gyro)\n",
    "    # avoid division by zero\n",
    "    if norm > 0 and norm < 1e-9:\n",
    "        norm = 1e-9\n",
    "    elif norm < 0 and norm < -1e-9:\n",
    "        norm = -1e-9\n",
    "    orientation *= Orientation.from_axis_angle(\n",
    "        gyro / norm,\n",
    "        dt * norm\n",
    "    )\n",
    "    return orientation\n",
    "\n",
    "# Ensure expected columns exist\n",
    "expected = {\"time_ms\", \"gyro_x\", \"gyro_y\", \"gyro_z\"}\n",
    "if not expected.issubset(df.columns):\n",
    "    missing = expected - set(df.columns)\n",
    "    raise ValueError(f\"Missing required columns: {', '.join(missing)}\")\n",
    "\n",
    "# Compute dt (s) between rows, first row gets dt=0\n",
    "df[\"dt\"] = df[\"time_ms\"].diff().fillna(0) * 1e-3\n",
    "\n",
    "# Allocate columns for quaternion components\n",
    "quat_cols: List[str] = [\"w\", \"x\", \"y\", \"z\"]\n",
    "for c in quat_cols:\n",
    "    df[c] = 0.0\n",
    "\n",
    "global orientation\n",
    "orientation = Orientation()\n",
    "\n",
    "for idx, row in df.iterrows():\n",
    "        dt  = float(row[\"dt\"])\n",
    "        gyro = np.array([float(row[\"gyro_x\"]),\n",
    "                        float(row[\"gyro_y\"]),\n",
    "                        float(row[\"gyro_z\"])])\n",
    "        q = update(dt, gyro)\n",
    "        df.loc[idx, quat_cols] = q.quaternion\n",
    "\n",
    "df_out = df[[\"time_ms\", *quat_cols]]\n",
    "df_out.to_csv(\"data/ori_1.csv\", index=False)"
   ]
  },
  {
   "cell_type": "code",
   "execution_count": null,
   "id": "77664634",
   "metadata": {},
   "outputs": [],
   "source": []
  }
 ],
 "metadata": {
  "kernelspec": {
   "display_name": "base",
   "language": "python",
   "name": "python3"
  },
  "language_info": {
   "codemirror_mode": {
    "name": "ipython",
    "version": 3
   },
   "file_extension": ".py",
   "mimetype": "text/x-python",
   "name": "python",
   "nbconvert_exporter": "python",
   "pygments_lexer": "ipython3",
   "version": "3.11.5"
  }
 },
 "nbformat": 4,
 "nbformat_minor": 5
}
